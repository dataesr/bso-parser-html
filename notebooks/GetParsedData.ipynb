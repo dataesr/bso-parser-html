{
 "cells": [
  {
   "cell_type": "code",
   "execution_count": null,
   "id": "90b6dab6",
   "metadata": {},
   "outputs": [],
   "source": [
    "import os\n",
    "import requests\n",
    "import hashlib\n",
    "import pandas as pd\n",
    "from dotenv import load_dotenv\n",
    "load_dotenv()\n",
    "assert(os.getenv('CONTAINER_URL'))"
   ]
  },
  {
   "cell_type": "code",
   "execution_count": null,
   "id": "da95c097",
   "metadata": {},
   "outputs": [],
   "source": [
    "def get_hash(x):\n",
    "    return hashlib.md5(x.encode('utf-8')).hexdigest()\n",
    "\n",
    "\n",
    "def get_filename(doi):\n",
    "    init = doi.split('/')[0]\n",
    "    notice_id = f'doi{doi}'\n",
    "    id_hash = get_hash(notice_id)\n",
    "    filename = f'{init}/{id_hash}.json.gz'\n",
    "    return filename"
   ]
  },
  {
   "cell_type": "code",
   "execution_count": null,
   "id": "71985bf7",
   "metadata": {},
   "outputs": [],
   "source": [
    "def get_parsed_data(doi):\n",
    "    file_path = f\"{os.getenv('CONTAINER_URL')}/{get_filename(doi)}\"\n",
    "    try:\n",
    "        return pd.read_json(file_path).to_dict(orient='records')[0]\n",
    "    except:\n",
    "        print(f'no file for {doi} does not exist')"
   ]
  },
  {
   "cell_type": "code",
   "execution_count": null,
   "id": "2d10be29",
   "metadata": {},
   "outputs": [],
   "source": [
    "doi='10.1007/s11192-016-2116-x'\n",
    "get_parsed_data(doi)"
   ]
  }
 ],
 "metadata": {
  "kernelspec": {
   "display_name": "Python 3",
   "language": "python",
   "name": "python3"
  },
  "language_info": {
   "codemirror_mode": {
    "name": "ipython",
    "version": 3
   },
   "file_extension": ".py",
   "mimetype": "text/x-python",
   "name": "python",
   "nbconvert_exporter": "python",
   "pygments_lexer": "ipython3",
   "version": "3.9.18"
  }
 },
 "nbformat": 4,
 "nbformat_minor": 5
}
